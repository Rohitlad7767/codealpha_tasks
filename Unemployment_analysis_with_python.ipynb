{
 "cells": [
  {
   "cell_type": "code",
   "execution_count": 51,
   "id": "e305a302-aded-43e0-97c1-8448874577c8",
   "metadata": {},
   "outputs": [],
   "source": [
    "import numpy as np\n",
    "import pandas as pd\n",
    "\n",
    "import matplotlib.pyplot as plt\n",
    "import seaborn as sns\n",
    "\n",
    "import calendar\n",
    "import datetime as dt\n",
    "\n",
    "import warnings\n",
    "warnings.filterwarnings('ignore')\n",
    "%matplotlib inline"
   ]
  },
  {
   "cell_type": "code",
   "execution_count": 52,
   "id": "ed2ed8e5-0a34-41f3-93a8-c164c200a81d",
   "metadata": {},
   "outputs": [],
   "source": [
    "# Load Dataset\n",
    "df = pd.read_csv(r\"C:\\Users\\hp\\Downloads\\Unemployment in India.csv\")  "
   ]
  },
  {
   "cell_type": "code",
   "execution_count": 53,
   "id": "7ff2c4cd-023a-4272-b891-790da1669b5e",
   "metadata": {},
   "outputs": [
    {
     "data": {
      "text/html": [
       "<div>\n",
       "<style scoped>\n",
       "    .dataframe tbody tr th:only-of-type {\n",
       "        vertical-align: middle;\n",
       "    }\n",
       "\n",
       "    .dataframe tbody tr th {\n",
       "        vertical-align: top;\n",
       "    }\n",
       "\n",
       "    .dataframe thead th {\n",
       "        text-align: right;\n",
       "    }\n",
       "</style>\n",
       "<table border=\"1\" class=\"dataframe\">\n",
       "  <thead>\n",
       "    <tr style=\"text-align: right;\">\n",
       "      <th></th>\n",
       "      <th>Region</th>\n",
       "      <th>Date</th>\n",
       "      <th>Frequency</th>\n",
       "      <th>Estimated Unemployment Rate (%)</th>\n",
       "      <th>Estimated Employed</th>\n",
       "      <th>Estimated Labour Participation Rate (%)</th>\n",
       "      <th>Area</th>\n",
       "    </tr>\n",
       "  </thead>\n",
       "  <tbody>\n",
       "    <tr>\n",
       "      <th>0</th>\n",
       "      <td>Andhra Pradesh</td>\n",
       "      <td>31-05-2019</td>\n",
       "      <td>Monthly</td>\n",
       "      <td>3.65</td>\n",
       "      <td>11999139.0</td>\n",
       "      <td>43.24</td>\n",
       "      <td>Rural</td>\n",
       "    </tr>\n",
       "    <tr>\n",
       "      <th>1</th>\n",
       "      <td>Andhra Pradesh</td>\n",
       "      <td>30-06-2019</td>\n",
       "      <td>Monthly</td>\n",
       "      <td>3.05</td>\n",
       "      <td>11755881.0</td>\n",
       "      <td>42.05</td>\n",
       "      <td>Rural</td>\n",
       "    </tr>\n",
       "    <tr>\n",
       "      <th>2</th>\n",
       "      <td>Andhra Pradesh</td>\n",
       "      <td>31-07-2019</td>\n",
       "      <td>Monthly</td>\n",
       "      <td>3.75</td>\n",
       "      <td>12086707.0</td>\n",
       "      <td>43.50</td>\n",
       "      <td>Rural</td>\n",
       "    </tr>\n",
       "    <tr>\n",
       "      <th>3</th>\n",
       "      <td>Andhra Pradesh</td>\n",
       "      <td>31-08-2019</td>\n",
       "      <td>Monthly</td>\n",
       "      <td>3.32</td>\n",
       "      <td>12285693.0</td>\n",
       "      <td>43.97</td>\n",
       "      <td>Rural</td>\n",
       "    </tr>\n",
       "    <tr>\n",
       "      <th>4</th>\n",
       "      <td>Andhra Pradesh</td>\n",
       "      <td>30-09-2019</td>\n",
       "      <td>Monthly</td>\n",
       "      <td>5.17</td>\n",
       "      <td>12256762.0</td>\n",
       "      <td>44.68</td>\n",
       "      <td>Rural</td>\n",
       "    </tr>\n",
       "  </tbody>\n",
       "</table>\n",
       "</div>"
      ],
      "text/plain": [
       "           Region         Date  Frequency   Estimated Unemployment Rate (%)  \\\n",
       "0  Andhra Pradesh   31-05-2019    Monthly                              3.65   \n",
       "1  Andhra Pradesh   30-06-2019    Monthly                              3.05   \n",
       "2  Andhra Pradesh   31-07-2019    Monthly                              3.75   \n",
       "3  Andhra Pradesh   31-08-2019    Monthly                              3.32   \n",
       "4  Andhra Pradesh   30-09-2019    Monthly                              5.17   \n",
       "\n",
       "    Estimated Employed   Estimated Labour Participation Rate (%)   Area  \n",
       "0           11999139.0                                     43.24  Rural  \n",
       "1           11755881.0                                     42.05  Rural  \n",
       "2           12086707.0                                     43.50  Rural  \n",
       "3           12285693.0                                     43.97  Rural  \n",
       "4           12256762.0                                     44.68  Rural  "
      ]
     },
     "execution_count": 53,
     "metadata": {},
     "output_type": "execute_result"
    }
   ],
   "source": [
    "df.head()"
   ]
  },
  {
   "cell_type": "code",
   "execution_count": 54,
   "id": "833731bc-c919-4003-995b-dcc7126ced3a",
   "metadata": {},
   "outputs": [
    {
     "name": "stdout",
     "output_type": "stream",
     "text": [
      "Number of rows are:  768\n",
      "Number of columns are:  7\n"
     ]
    }
   ],
   "source": [
    "print(\"Number of rows are: \",df.shape[0])\n",
    "print(\"Number of columns are: \",df.shape[1])"
   ]
  },
  {
   "cell_type": "code",
   "execution_count": 55,
   "id": "43565957-e234-484e-8d59-c59c6206cc3a",
   "metadata": {},
   "outputs": [
    {
     "name": "stdout",
     "output_type": "stream",
     "text": [
      "<class 'pandas.core.frame.DataFrame'>\n",
      "RangeIndex: 768 entries, 0 to 767\n",
      "Data columns (total 7 columns):\n",
      " #   Column                                    Non-Null Count  Dtype  \n",
      "---  ------                                    --------------  -----  \n",
      " 0   Region                                    740 non-null    object \n",
      " 1    Date                                     740 non-null    object \n",
      " 2    Frequency                                740 non-null    object \n",
      " 3    Estimated Unemployment Rate (%)          740 non-null    float64\n",
      " 4    Estimated Employed                       740 non-null    float64\n",
      " 5    Estimated Labour Participation Rate (%)  740 non-null    float64\n",
      " 6   Area                                      740 non-null    object \n",
      "dtypes: float64(3), object(4)\n",
      "memory usage: 42.1+ KB\n"
     ]
    }
   ],
   "source": [
    "# Dataset Info\n",
    "df.info()"
   ]
  },
  {
   "cell_type": "code",
   "execution_count": 56,
   "id": "9f01cad3-505d-4f99-aaa8-9efda6c794a2",
   "metadata": {},
   "outputs": [
    {
     "name": "stdout",
     "output_type": "stream",
     "text": [
      "number of duplicated rows are 27\n"
     ]
    }
   ],
   "source": [
    "dup = df.duplicated().sum()\n",
    "print(f'number of duplicated rows are {dup}')"
   ]
  },
  {
   "cell_type": "code",
   "execution_count": 57,
   "id": "04c150c5-bd2f-47df-a7ec-a71cc906832a",
   "metadata": {},
   "outputs": [
    {
     "data": {
      "text/plain": [
       "Region                                      28\n",
       " Date                                       28\n",
       " Frequency                                  28\n",
       " Estimated Unemployment Rate (%)            28\n",
       " Estimated Employed                         28\n",
       " Estimated Labour Participation Rate (%)    28\n",
       "Area                                        28\n",
       "dtype: int64"
      ]
     },
     "execution_count": 57,
     "metadata": {},
     "output_type": "execute_result"
    }
   ],
   "source": [
    "df.isnull().sum()"
   ]
  },
  {
   "cell_type": "code",
   "execution_count": 58,
   "id": "183c69ce-0adb-4697-a592-73bf16267e3e",
   "metadata": {},
   "outputs": [
    {
     "data": {
      "text/plain": [
       "Index(['Region', ' Date', ' Frequency', ' Estimated Unemployment Rate (%)',\n",
       "       ' Estimated Employed', ' Estimated Labour Participation Rate (%)',\n",
       "       'Area'],\n",
       "      dtype='object')"
      ]
     },
     "execution_count": 58,
     "metadata": {},
     "output_type": "execute_result"
    }
   ],
   "source": [
    "# Dataset Columns\n",
    "df.columns"
   ]
  },
  {
   "cell_type": "code",
   "execution_count": 59,
   "id": "0b4ab5a9-6193-48b0-bb35-fe82a3f5ae84",
   "metadata": {},
   "outputs": [
    {
     "name": "stdout",
     "output_type": "stream",
     "text": [
      "No. of unique values in Region is 28\n",
      "No. of unique values in  Date is 14\n",
      "No. of unique values in  Frequency is 2\n",
      "No. of unique values in  Estimated Unemployment Rate (%) is 624\n",
      "No. of unique values in  Estimated Employed is 740\n",
      "No. of unique values in  Estimated Labour Participation Rate (%) is 626\n",
      "No. of unique values in Area is 2\n"
     ]
    }
   ],
   "source": [
    "# Check Unique Values for each variable.\n",
    "for i in df.columns.tolist():\n",
    "  print(\"No. of unique values in\",i,\"is\",df[i].nunique())"
   ]
  },
  {
   "cell_type": "code",
   "execution_count": 60,
   "id": "a7b5e8b7-8619-43a4-9e38-2095c5f6ee4d",
   "metadata": {},
   "outputs": [],
   "source": [
    "# Rename the columns of the DataFrame\n",
    "df.columns = ['States', 'Date', 'Frequency', 'Estimated Unemployment Rate', 'Estimated Employed', 'Estimated Labour Participation Rate', 'Region']"
   ]
  },
  {
   "cell_type": "code",
   "execution_count": 61,
   "id": "0014e139-4018-43cf-9a8a-03c41d38d491",
   "metadata": {},
   "outputs": [],
   "source": [
    "# Convert the 'Frequency' column to a categorical\n",
    "df['Frequency'] = df['Frequency'].astype('category')\n",
    "\n",
    "# Convert the 'Region' column to a categorical\n",
    "df['Region'] = df['Region'].astype('category')"
   ]
  },
  {
   "cell_type": "code",
   "execution_count": 62,
   "id": "93239810-ce32-49ed-ac14-51c7b12be829",
   "metadata": {},
   "outputs": [],
   "source": [
    "# Convert the 'Date' column to datetime format\n",
    "df['Date'] = pd.to_datetime(df['Date'], dayfirst=True)\n",
    "\n",
    "# Extract the month from the 'Date' column and create a new 'Month' column\n",
    "df['Month'] = df['Date'].dt.month\n",
    "\n",
    "# Create a new 'Month_int' column by converting the 'Month' column to integers\n",
    "df['Month_int'] = df['Month'].apply(lambda x: int(x) if pd.notna(x) else x)"
   ]
  },
  {
   "cell_type": "code",
   "execution_count": 63,
   "id": "25b126da-6e7e-4f28-bb35-e29f862a890f",
   "metadata": {},
   "outputs": [],
   "source": [
    "# Drop the 'Month' column \n",
    "df.drop(columns='Month', inplace=True)"
   ]
  },
  {
   "cell_type": "code",
   "execution_count": 64,
   "id": "468e69b7-4bc5-4670-894c-f73369e58c52",
   "metadata": {},
   "outputs": [],
   "source": [
    "# Lets create a copy of the dataset for the data of during lockdown period\n",
    "df_ld = df.copy()"
   ]
  },
  {
   "cell_type": "code",
   "execution_count": 65,
   "id": "d9f67e23-690b-4f9e-8190-cf9a2130af93",
   "metadata": {},
   "outputs": [],
   "source": [
    "# Drop all the missing values from 'df' dataset\n",
    "df=df.dropna()"
   ]
  },
  {
   "cell_type": "code",
   "execution_count": 66,
   "id": "ae4f1019-0926-4105-a712-f70c6284325a",
   "metadata": {},
   "outputs": [],
   "source": [
    "# Define a date range mask to filter rows where 'Date' falls within the range of before lockdown period\n",
    "mask = (df['Date'] >= '2019-05-31') & (df['Date'] <= '2020-03-31')\n",
    "# Use the mask to select and keep only the rows that meet the date range criteria\n",
    "df = df.loc[mask]"
   ]
  },
  {
   "cell_type": "code",
   "execution_count": 67,
   "id": "557967ec-0fb2-450c-9319-764cfd93d7be",
   "metadata": {},
   "outputs": [],
   "source": [
    "mask = (df_ld['Date'] >= '2020-04-30')\n",
    "df_ld = df_ld.loc[mask]"
   ]
  },
  {
   "cell_type": "code",
   "execution_count": 68,
   "id": "f2c9725b-48f8-4d00-8527-f269863be44d",
   "metadata": {},
   "outputs": [
    {
     "data": {
      "image/png": "[encoded data removed]",
      "text/plain": [
       "<Figure size 1400x500 with 2 Axes>"
      ]
     },
     "metadata": {},
     "output_type": "display_data"
    }
   ],
   "source": [
    "# Chart - 1 Bar plot visualization of Region wise Estimated Unemployment Rate before and during lockdown\n",
    "\n",
    "plt.figure(figsize=(14, 5))\n",
    "plt.subplot(1, 2, 1)\n",
    "sns.barplot(x='Region', y='Estimated Unemployment Rate', data=df)\n",
    "plt.xlabel(\"Region\", fontsize=10)\n",
    "plt.ylabel('Estimated Unemployment Rate', fontsize=10)\n",
    "plt.title('Estimated Unemployment Rate Before Lockdown', fontsize=12)\n",
    "\n",
    "plt.subplot(1, 2, 2)\n",
    "sns.barplot(x='Region', y='Estimated Unemployment Rate', data=df_ld)\n",
    "plt.xlabel(\"Region\", fontsize=10)\n",
    "plt.ylabel('Estimated Unemployment Rate', fontsize=10)\n",
    "plt.title('Estimated Unemployment Rate During Lockdown', fontsize=12)\n",
    "\n",
    "plt.show()\n",
    "     \n"
   ]
  },
  {
   "cell_type": "code",
   "execution_count": null,
   "id": "a28bca1f-646d-498d-a6e1-a97bdb0dd764",
   "metadata": {},
   "outputs": [],
   "source": [
    "\n",
    "# Chart : Swarm plot visualization code of State Wise Estimated Unemployment Rate before and during lockdown.\n",
    "\n",
    "# Create a figure with two subplots side by side.\n",
    "plt.figure(figsize=(25, 8))\n",
    "plt.subplot(1, 2, 1)\n",
    "plt.title(\"State Wise Estimated Unemployment Rate Before Lockdown\", fontsize=16)\n",
    "\n",
    "# Create a swarm plot to visualize the Estimated Unemployment Rate before lockdown.\n",
    "sns.swarmplot(y=\"States\", x='Estimated Unemployment Rate', data=df, size=8)\n",
    "\n",
    "# Set labels for the first subplot.\n",
    "plt.xlabel(\"Estimated Unemployment Rate\", fontsize=16)\n",
    "plt.ylabel(\"States\", fontsize=16)\n",
    "\n",
    "# Subplot 2: State Wise Estimated Unemployment Rate During Lockdown\n",
    "plt.subplot(1, 2, 2)\n",
    "\n",
    "# Set the title for the second subplot.\n",
    "plt.title(\"State Wise Estimated Unemployment Rate During Lockdown\", fontsize=16)\n",
    "\n",
    "# Create a swarm plot to visualize the Estimated Unemployment Rate during lockdown.\n",
    "sns.swarmplot(y=\"States\", x='Estimated Unemployment Rate', data=df_ld, size=8)\n",
    "\n",
    "# Set labels for the second subplot.\n",
    "plt.xlabel(\"Estimated Unemployment Rate\", fontsize=16)\n",
    "plt.ylabel(\"States\", fontsize=16)\n",
    "\n",
    "# Display the subplots side by side.\n",
    "plt.show()"
   ]
  },
  {
   "cell_type": "code",
   "execution_count": null,
   "id": "3aab3301-aba0-414a-b8dc-10deb1c40b06",
   "metadata": {},
   "outputs": [],
   "source": []
  }
 ],
 "metadata": {
  "kernelspec": {
   "display_name": "Python 3 (ipykernel)",
   "language": "python",
   "name": "python3"
  },
  "language_info": {
   "codemirror_mode": {
    "name": "ipython",
    "version": 3
   },
   "file_extension": ".py",
   "mimetype": "text/x-python",
   "name": "python",
   "nbconvert_exporter": "python",
   "pygments_lexer": "ipython3",
   "version": "3.11.5"
  }
 },
 "nbformat": 4,
 "nbformat_minor": 5
}
